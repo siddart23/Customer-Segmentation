{
 "cells": [
  {
   "cell_type": "code",
   "execution_count": 1,
   "id": "1e4f07d1",
   "metadata": {
    "_cell_guid": "b1076dfc-b9ad-4769-8c92-a6c4dae69d19",
    "_uuid": "8f2839f25d086af736a60e9eeb907d3b93b6e0e5",
    "execution": {
     "iopub.execute_input": "2025-01-25T09:17:39.235595Z",
     "iopub.status.busy": "2025-01-25T09:17:39.235266Z",
     "iopub.status.idle": "2025-01-25T09:17:41.661979Z",
     "shell.execute_reply": "2025-01-25T09:17:41.660851Z"
    },
    "papermill": {
     "duration": 2.433391,
     "end_time": "2025-01-25T09:17:41.663913",
     "exception": false,
     "start_time": "2025-01-25T09:17:39.230522",
     "status": "completed"
    },
    "tags": []
   },
   "outputs": [
    {
     "name": "stdout",
     "output_type": "stream",
     "text": [
      "/kaggle/input/transactions/Transaction.xlsx\n",
      "/kaggle/input/customer-address/CustomerAddress.xlsx\n",
      "/kaggle/input/customer-demographic/CustomerDemographic.xlsx\n",
      "/kaggle/input/new-customer-list/NewCustomerList.xlsx\n"
     ]
    },
    {
     "data": {
      "text/html": [
       "<div>\n",
       "<style scoped>\n",
       "    .dataframe tbody tr th:only-of-type {\n",
       "        vertical-align: middle;\n",
       "    }\n",
       "\n",
       "    .dataframe tbody tr th {\n",
       "        vertical-align: top;\n",
       "    }\n",
       "\n",
       "    .dataframe thead th {\n",
       "        text-align: right;\n",
       "    }\n",
       "</style>\n",
       "<table border=\"1\" class=\"dataframe\">\n",
       "  <thead>\n",
       "    <tr style=\"text-align: right;\">\n",
       "      <th></th>\n",
       "      <th>customer_id</th>\n",
       "      <th>first_name</th>\n",
       "      <th>last_name</th>\n",
       "      <th>gender</th>\n",
       "      <th>past_3_years_bike_related_purchases</th>\n",
       "      <th>DOB</th>\n",
       "      <th>job_title</th>\n",
       "      <th>job_industry_category</th>\n",
       "      <th>wealth_segment</th>\n",
       "      <th>deceased_indicator</th>\n",
       "      <th>default</th>\n",
       "      <th>owns_car</th>\n",
       "      <th>tenure</th>\n",
       "    </tr>\n",
       "  </thead>\n",
       "  <tbody>\n",
       "    <tr>\n",
       "      <th>0</th>\n",
       "      <td>1</td>\n",
       "      <td>Laraine</td>\n",
       "      <td>Medendorp</td>\n",
       "      <td>F</td>\n",
       "      <td>93</td>\n",
       "      <td>1953-10-12 00:00:00</td>\n",
       "      <td>Executive Secretary</td>\n",
       "      <td>Health</td>\n",
       "      <td>Mass Customer</td>\n",
       "      <td>N</td>\n",
       "      <td>\"'</td>\n",
       "      <td>Yes</td>\n",
       "      <td>11.0</td>\n",
       "    </tr>\n",
       "    <tr>\n",
       "      <th>1</th>\n",
       "      <td>2</td>\n",
       "      <td>Eli</td>\n",
       "      <td>Bockman</td>\n",
       "      <td>Male</td>\n",
       "      <td>81</td>\n",
       "      <td>1980-12-16 00:00:00</td>\n",
       "      <td>Administrative Officer</td>\n",
       "      <td>Financial Services</td>\n",
       "      <td>Mass Customer</td>\n",
       "      <td>N</td>\n",
       "      <td>&lt;script&gt;alert('hi')&lt;/script&gt;</td>\n",
       "      <td>Yes</td>\n",
       "      <td>16.0</td>\n",
       "    </tr>\n",
       "    <tr>\n",
       "      <th>2</th>\n",
       "      <td>3</td>\n",
       "      <td>Arlin</td>\n",
       "      <td>Dearle</td>\n",
       "      <td>Male</td>\n",
       "      <td>61</td>\n",
       "      <td>1954-01-20 00:00:00</td>\n",
       "      <td>Recruiting Manager</td>\n",
       "      <td>Property</td>\n",
       "      <td>Mass Customer</td>\n",
       "      <td>N</td>\n",
       "      <td>2018-02-01 00:00:00</td>\n",
       "      <td>Yes</td>\n",
       "      <td>15.0</td>\n",
       "    </tr>\n",
       "    <tr>\n",
       "      <th>3</th>\n",
       "      <td>4</td>\n",
       "      <td>Talbot</td>\n",
       "      <td>NaN</td>\n",
       "      <td>Male</td>\n",
       "      <td>33</td>\n",
       "      <td>1961-10-03 00:00:00</td>\n",
       "      <td>NaN</td>\n",
       "      <td>IT</td>\n",
       "      <td>Mass Customer</td>\n",
       "      <td>N</td>\n",
       "      <td>() { _; } &gt;_[$($())] { touch /tmp/blns.shellsh...</td>\n",
       "      <td>No</td>\n",
       "      <td>7.0</td>\n",
       "    </tr>\n",
       "    <tr>\n",
       "      <th>4</th>\n",
       "      <td>5</td>\n",
       "      <td>Sheila-kathryn</td>\n",
       "      <td>Calton</td>\n",
       "      <td>Female</td>\n",
       "      <td>56</td>\n",
       "      <td>1977-05-13 00:00:00</td>\n",
       "      <td>Senior Editor</td>\n",
       "      <td>NaN</td>\n",
       "      <td>Affluent Customer</td>\n",
       "      <td>N</td>\n",
       "      <td>NIL</td>\n",
       "      <td>Yes</td>\n",
       "      <td>8.0</td>\n",
       "    </tr>\n",
       "  </tbody>\n",
       "</table>\n",
       "</div>"
      ],
      "text/plain": [
       "   customer_id      first_name  last_name  gender  \\\n",
       "0            1         Laraine  Medendorp       F   \n",
       "1            2             Eli    Bockman    Male   \n",
       "2            3           Arlin     Dearle    Male   \n",
       "3            4          Talbot        NaN    Male   \n",
       "4            5  Sheila-kathryn     Calton  Female   \n",
       "\n",
       "   past_3_years_bike_related_purchases                  DOB  \\\n",
       "0                                   93  1953-10-12 00:00:00   \n",
       "1                                   81  1980-12-16 00:00:00   \n",
       "2                                   61  1954-01-20 00:00:00   \n",
       "3                                   33  1961-10-03 00:00:00   \n",
       "4                                   56  1977-05-13 00:00:00   \n",
       "\n",
       "                job_title job_industry_category     wealth_segment  \\\n",
       "0     Executive Secretary                Health      Mass Customer   \n",
       "1  Administrative Officer    Financial Services      Mass Customer   \n",
       "2      Recruiting Manager              Property      Mass Customer   \n",
       "3                     NaN                    IT      Mass Customer   \n",
       "4           Senior Editor                   NaN  Affluent Customer   \n",
       "\n",
       "  deceased_indicator                                            default  \\\n",
       "0                  N                                                 \"'   \n",
       "1                  N                       <script>alert('hi')</script>   \n",
       "2                  N                                2018-02-01 00:00:00   \n",
       "3                  N  () { _; } >_[$($())] { touch /tmp/blns.shellsh...   \n",
       "4                  N                                                NIL   \n",
       "\n",
       "  owns_car  tenure  \n",
       "0      Yes    11.0  \n",
       "1      Yes    16.0  \n",
       "2      Yes    15.0  \n",
       "3       No     7.0  \n",
       "4      Yes     8.0  "
      ]
     },
     "execution_count": 1,
     "metadata": {},
     "output_type": "execute_result"
    }
   ],
   "source": [
    "# This Python 3 environment comes with many helpful analytics libraries installed\n",
    "# It is defined by the kaggle/python Docker image: https://github.com/kaggle/docker-python\n",
    "# For example, here's several helpful packages to load\n",
    "\n",
    "import numpy as np # linear algebra\n",
    "import pandas as pd # data processing, CSV file I/O (e.g. pd.read_csv)\n",
    "import matplotlib.pyplot as plt\n",
    "\n",
    "# Input data files are available in the read-only \"../input/\" directory\n",
    "# For example, running this (by clicking run or pressing Shift+Enter) will list all files under the input directory\n",
    "\n",
    "import os\n",
    "for dirname, _, filenames in os.walk('/kaggle/input'):\n",
    "    for filename in filenames:\n",
    "        print(os.path.join(dirname, filename))\n",
    "\n",
    "# You can write up to 20GB to the current directory (/kaggle/working/) that gets preserved as output when you create a version using \"Save & Run All\" \n",
    "# You can also write temporary files to /kaggle/temp/, but they won't be saved outside of the current session\n",
    "\n",
    "cust_demo=pd.read_excel(\"/kaggle/input/customer-demographic/CustomerDemographic.xlsx\")\n",
    "cust_demo.head(5)"
   ]
  },
  {
   "cell_type": "code",
   "execution_count": 2,
   "id": "3fb46aa8",
   "metadata": {
    "execution": {
     "iopub.execute_input": "2025-01-25T09:17:41.672183Z",
     "iopub.status.busy": "2025-01-25T09:17:41.671664Z",
     "iopub.status.idle": "2025-01-25T09:17:41.696298Z",
     "shell.execute_reply": "2025-01-25T09:17:41.695042Z"
    },
    "papermill": {
     "duration": 0.030791,
     "end_time": "2025-01-25T09:17:41.698413",
     "exception": false,
     "start_time": "2025-01-25T09:17:41.667622",
     "status": "completed"
    },
    "tags": []
   },
   "outputs": [
    {
     "name": "stdout",
     "output_type": "stream",
     "text": [
      "<class 'pandas.core.frame.DataFrame'>\n",
      "RangeIndex: 4000 entries, 0 to 3999\n",
      "Data columns (total 13 columns):\n",
      " #   Column                               Non-Null Count  Dtype  \n",
      "---  ------                               --------------  -----  \n",
      " 0   customer_id                          4000 non-null   int64  \n",
      " 1   first_name                           4000 non-null   object \n",
      " 2   last_name                            3875 non-null   object \n",
      " 3   gender                               4000 non-null   object \n",
      " 4   past_3_years_bike_related_purchases  4000 non-null   int64  \n",
      " 5   DOB                                  3913 non-null   object \n",
      " 6   job_title                            3494 non-null   object \n",
      " 7   job_industry_category                3344 non-null   object \n",
      " 8   wealth_segment                       4000 non-null   object \n",
      " 9   deceased_indicator                   4000 non-null   object \n",
      " 10  default                              3698 non-null   object \n",
      " 11  owns_car                             4000 non-null   object \n",
      " 12  tenure                               3913 non-null   float64\n",
      "dtypes: float64(1), int64(2), object(10)\n",
      "memory usage: 406.4+ KB\n"
     ]
    }
   ],
   "source": [
    "cust_demo.info()"
   ]
  },
  {
   "cell_type": "code",
   "execution_count": 3,
   "id": "bfd7ca06",
   "metadata": {
    "execution": {
     "iopub.execute_input": "2025-01-25T09:17:41.706464Z",
     "iopub.status.busy": "2025-01-25T09:17:41.706149Z",
     "iopub.status.idle": "2025-01-25T09:17:41.711065Z",
     "shell.execute_reply": "2025-01-25T09:17:41.710016Z"
    },
    "papermill": {
     "duration": 0.011011,
     "end_time": "2025-01-25T09:17:41.712910",
     "exception": false,
     "start_time": "2025-01-25T09:17:41.701899",
     "status": "completed"
    },
    "tags": []
   },
   "outputs": [
    {
     "name": "stdout",
     "output_type": "stream",
     "text": [
      "Total records (rows) in the dataset : 4000\n",
      "Total columns (features) in the dataset : 13\n"
     ]
    }
   ],
   "source": [
    "print(\"Total records (rows) in the dataset : {}\".format(cust_demo.shape[0]))\n",
    "print(\"Total columns (features) in the dataset : {}\".format(cust_demo.shape[1]))"
   ]
  },
  {
   "cell_type": "code",
   "execution_count": 4,
   "id": "56fe34b6",
   "metadata": {
    "execution": {
     "iopub.execute_input": "2025-01-25T09:17:41.720952Z",
     "iopub.status.busy": "2025-01-25T09:17:41.720566Z",
     "iopub.status.idle": "2025-01-25T09:17:41.728152Z",
     "shell.execute_reply": "2025-01-25T09:17:41.727229Z"
    },
    "papermill": {
     "duration": 0.013353,
     "end_time": "2025-01-25T09:17:41.729738",
     "exception": false,
     "start_time": "2025-01-25T09:17:41.716385",
     "status": "completed"
    },
    "tags": []
   },
   "outputs": [
    {
     "name": "stdout",
     "output_type": "stream",
     "text": [
      "The numeric columns are : ['customer_id' 'past_3_years_bike_related_purchases' 'tenure']\n",
      "The non-numeric columns are : ['first_name' 'last_name' 'gender' 'DOB' 'job_title'\n",
      " 'job_industry_category' 'wealth_segment' 'deceased_indicator' 'default'\n",
      " 'owns_car']\n"
     ]
    }
   ],
   "source": [
    "df_numeric = cust_demo.select_dtypes(include=[np.number])\n",
    "numeric_cols = df_numeric.columns.values\n",
    "print(\"The numeric columns are : {}\".format(numeric_cols))\n",
    "\n",
    "\n",
    "# select non-numeric columns\n",
    "df_non_numeric = cust_demo.select_dtypes(exclude=[np.number])\n",
    "non_numeric_cols = df_non_numeric.columns.values\n",
    "print(\"The non-numeric columns are : {}\".format(non_numeric_cols))"
   ]
  },
  {
   "cell_type": "code",
   "execution_count": 5,
   "id": "09f69b4d",
   "metadata": {
    "execution": {
     "iopub.execute_input": "2025-01-25T09:17:41.737962Z",
     "iopub.status.busy": "2025-01-25T09:17:41.737650Z",
     "iopub.status.idle": "2025-01-25T09:17:41.746597Z",
     "shell.execute_reply": "2025-01-25T09:17:41.745346Z"
    },
    "papermill": {
     "duration": 0.01511,
     "end_time": "2025-01-25T09:17:41.748422",
     "exception": false,
     "start_time": "2025-01-25T09:17:41.733312",
     "status": "completed"
    },
    "tags": []
   },
   "outputs": [],
   "source": [
    "cust_demo.drop(labels={'default'}, axis=1 , inplace=True)"
   ]
  },
  {
   "cell_type": "code",
   "execution_count": 6,
   "id": "aec8f441",
   "metadata": {
    "execution": {
     "iopub.execute_input": "2025-01-25T09:17:41.756761Z",
     "iopub.status.busy": "2025-01-25T09:17:41.756399Z",
     "iopub.status.idle": "2025-01-25T09:17:41.769889Z",
     "shell.execute_reply": "2025-01-25T09:17:41.768631Z"
    },
    "papermill": {
     "duration": 0.019421,
     "end_time": "2025-01-25T09:17:41.771543",
     "exception": false,
     "start_time": "2025-01-25T09:17:41.752122",
     "status": "completed"
    },
    "tags": []
   },
   "outputs": [
    {
     "name": "stdout",
     "output_type": "stream",
     "text": [
      "<class 'pandas.core.frame.DataFrame'>\n",
      "RangeIndex: 4000 entries, 0 to 3999\n",
      "Data columns (total 12 columns):\n",
      " #   Column                               Non-Null Count  Dtype  \n",
      "---  ------                               --------------  -----  \n",
      " 0   customer_id                          4000 non-null   int64  \n",
      " 1   first_name                           4000 non-null   object \n",
      " 2   last_name                            3875 non-null   object \n",
      " 3   gender                               4000 non-null   object \n",
      " 4   past_3_years_bike_related_purchases  4000 non-null   int64  \n",
      " 5   DOB                                  3913 non-null   object \n",
      " 6   job_title                            3494 non-null   object \n",
      " 7   job_industry_category                3344 non-null   object \n",
      " 8   wealth_segment                       4000 non-null   object \n",
      " 9   deceased_indicator                   4000 non-null   object \n",
      " 10  owns_car                             4000 non-null   object \n",
      " 11  tenure                               3913 non-null   float64\n",
      "dtypes: float64(1), int64(2), object(9)\n",
      "memory usage: 375.1+ KB\n"
     ]
    }
   ],
   "source": [
    "cust_demo.info()"
   ]
  },
  {
   "cell_type": "code",
   "execution_count": 7,
   "id": "1b66b446",
   "metadata": {
    "execution": {
     "iopub.execute_input": "2025-01-25T09:17:41.779877Z",
     "iopub.status.busy": "2025-01-25T09:17:41.779513Z",
     "iopub.status.idle": "2025-01-25T09:17:41.789866Z",
     "shell.execute_reply": "2025-01-25T09:17:41.788864Z"
    },
    "papermill": {
     "duration": 0.016333,
     "end_time": "2025-01-25T09:17:41.791580",
     "exception": false,
     "start_time": "2025-01-25T09:17:41.775247",
     "status": "completed"
    },
    "tags": []
   },
   "outputs": [
    {
     "data": {
      "text/plain": [
       "customer_id                              0\n",
       "first_name                               0\n",
       "last_name                              125\n",
       "gender                                   0\n",
       "past_3_years_bike_related_purchases      0\n",
       "DOB                                     87\n",
       "job_title                              506\n",
       "job_industry_category                  656\n",
       "wealth_segment                           0\n",
       "deceased_indicator                       0\n",
       "owns_car                                 0\n",
       "tenure                                  87\n",
       "dtype: int64"
      ]
     },
     "execution_count": 7,
     "metadata": {},
     "output_type": "execute_result"
    }
   ],
   "source": [
    "cust_demo.isnull().sum()\n"
   ]
  },
  {
   "cell_type": "code",
   "execution_count": 8,
   "id": "455be5cb",
   "metadata": {
    "execution": {
     "iopub.execute_input": "2025-01-25T09:17:41.800577Z",
     "iopub.status.busy": "2025-01-25T09:17:41.800242Z",
     "iopub.status.idle": "2025-01-25T09:17:41.810822Z",
     "shell.execute_reply": "2025-01-25T09:17:41.809744Z"
    },
    "papermill": {
     "duration": 0.016926,
     "end_time": "2025-01-25T09:17:41.812445",
     "exception": false,
     "start_time": "2025-01-25T09:17:41.795519",
     "status": "completed"
    },
    "tags": []
   },
   "outputs": [
    {
     "data": {
      "text/plain": [
       "customer_id                             0.000\n",
       "first_name                              0.000\n",
       "last_name                               3.125\n",
       "gender                                  0.000\n",
       "past_3_years_bike_related_purchases     0.000\n",
       "DOB                                     2.175\n",
       "job_title                              12.650\n",
       "job_industry_category                  16.400\n",
       "wealth_segment                          0.000\n",
       "deceased_indicator                      0.000\n",
       "owns_car                                0.000\n",
       "tenure                                  2.175\n",
       "dtype: float64"
      ]
     },
     "execution_count": 8,
     "metadata": {},
     "output_type": "execute_result"
    }
   ],
   "source": [
    "cust_demo.isnull().mean()*100"
   ]
  },
  {
   "cell_type": "code",
   "execution_count": 9,
   "id": "55634b59",
   "metadata": {
    "execution": {
     "iopub.execute_input": "2025-01-25T09:17:41.821290Z",
     "iopub.status.busy": "2025-01-25T09:17:41.820919Z",
     "iopub.status.idle": "2025-01-25T09:17:41.830932Z",
     "shell.execute_reply": "2025-01-25T09:17:41.829804Z"
    },
    "papermill": {
     "duration": 0.016094,
     "end_time": "2025-01-25T09:17:41.832510",
     "exception": false,
     "start_time": "2025-01-25T09:17:41.816416",
     "status": "completed"
    },
    "tags": []
   },
   "outputs": [
    {
     "data": {
      "text/plain": [
       "first_name     0\n",
       "customer_id    0\n",
       "dtype: int64"
      ]
     },
     "execution_count": 9,
     "metadata": {},
     "output_type": "execute_result"
    }
   ],
   "source": [
    "cust_demo[cust_demo['last_name'].isnull()][['first_name', 'customer_id']].isnull().sum()"
   ]
  },
  {
   "cell_type": "code",
   "execution_count": 10,
   "id": "5be2c5eb",
   "metadata": {
    "execution": {
     "iopub.execute_input": "2025-01-25T09:17:41.841319Z",
     "iopub.status.busy": "2025-01-25T09:17:41.840948Z",
     "iopub.status.idle": "2025-01-25T09:17:41.858071Z",
     "shell.execute_reply": "2025-01-25T09:17:41.857046Z"
    },
    "papermill": {
     "duration": 0.023308,
     "end_time": "2025-01-25T09:17:41.859652",
     "exception": false,
     "start_time": "2025-01-25T09:17:41.836344",
     "status": "completed"
    },
    "tags": []
   },
   "outputs": [
    {
     "data": {
      "text/html": [
       "<div>\n",
       "<style scoped>\n",
       "    .dataframe tbody tr th:only-of-type {\n",
       "        vertical-align: middle;\n",
       "    }\n",
       "\n",
       "    .dataframe tbody tr th {\n",
       "        vertical-align: top;\n",
       "    }\n",
       "\n",
       "    .dataframe thead th {\n",
       "        text-align: right;\n",
       "    }\n",
       "</style>\n",
       "<table border=\"1\" class=\"dataframe\">\n",
       "  <thead>\n",
       "    <tr style=\"text-align: right;\">\n",
       "      <th></th>\n",
       "      <th>customer_id</th>\n",
       "      <th>first_name</th>\n",
       "      <th>last_name</th>\n",
       "      <th>gender</th>\n",
       "      <th>past_3_years_bike_related_purchases</th>\n",
       "      <th>DOB</th>\n",
       "      <th>job_title</th>\n",
       "      <th>job_industry_category</th>\n",
       "      <th>wealth_segment</th>\n",
       "      <th>deceased_indicator</th>\n",
       "      <th>owns_car</th>\n",
       "      <th>tenure</th>\n",
       "    </tr>\n",
       "  </thead>\n",
       "  <tbody>\n",
       "    <tr>\n",
       "      <th>3</th>\n",
       "      <td>4</td>\n",
       "      <td>Talbot</td>\n",
       "      <td>NaN</td>\n",
       "      <td>Male</td>\n",
       "      <td>33</td>\n",
       "      <td>1961-10-03 00:00:00</td>\n",
       "      <td>NaN</td>\n",
       "      <td>IT</td>\n",
       "      <td>Mass Customer</td>\n",
       "      <td>N</td>\n",
       "      <td>No</td>\n",
       "      <td>7.0</td>\n",
       "    </tr>\n",
       "    <tr>\n",
       "      <th>66</th>\n",
       "      <td>67</td>\n",
       "      <td>Vernon</td>\n",
       "      <td>NaN</td>\n",
       "      <td>Male</td>\n",
       "      <td>67</td>\n",
       "      <td>1960-06-14 00:00:00</td>\n",
       "      <td>Web Developer II</td>\n",
       "      <td>Retail</td>\n",
       "      <td>Mass Customer</td>\n",
       "      <td>N</td>\n",
       "      <td>No</td>\n",
       "      <td>18.0</td>\n",
       "    </tr>\n",
       "    <tr>\n",
       "      <th>105</th>\n",
       "      <td>106</td>\n",
       "      <td>Glyn</td>\n",
       "      <td>NaN</td>\n",
       "      <td>Male</td>\n",
       "      <td>54</td>\n",
       "      <td>1966-07-03 00:00:00</td>\n",
       "      <td>Software Test Engineer III</td>\n",
       "      <td>Health</td>\n",
       "      <td>High Net Worth</td>\n",
       "      <td>N</td>\n",
       "      <td>Yes</td>\n",
       "      <td>18.0</td>\n",
       "    </tr>\n",
       "    <tr>\n",
       "      <th>138</th>\n",
       "      <td>139</td>\n",
       "      <td>Gar</td>\n",
       "      <td>NaN</td>\n",
       "      <td>Male</td>\n",
       "      <td>1</td>\n",
       "      <td>1964-07-28 00:00:00</td>\n",
       "      <td>Operator</td>\n",
       "      <td>Telecommunications</td>\n",
       "      <td>Affluent Customer</td>\n",
       "      <td>N</td>\n",
       "      <td>No</td>\n",
       "      <td>4.0</td>\n",
       "    </tr>\n",
       "    <tr>\n",
       "      <th>196</th>\n",
       "      <td>197</td>\n",
       "      <td>Avis</td>\n",
       "      <td>NaN</td>\n",
       "      <td>Female</td>\n",
       "      <td>32</td>\n",
       "      <td>1977-01-27 00:00:00</td>\n",
       "      <td>NaN</td>\n",
       "      <td>NaN</td>\n",
       "      <td>High Net Worth</td>\n",
       "      <td>N</td>\n",
       "      <td>No</td>\n",
       "      <td>5.0</td>\n",
       "    </tr>\n",
       "    <tr>\n",
       "      <th>...</th>\n",
       "      <td>...</td>\n",
       "      <td>...</td>\n",
       "      <td>...</td>\n",
       "      <td>...</td>\n",
       "      <td>...</td>\n",
       "      <td>...</td>\n",
       "      <td>...</td>\n",
       "      <td>...</td>\n",
       "      <td>...</td>\n",
       "      <td>...</td>\n",
       "      <td>...</td>\n",
       "      <td>...</td>\n",
       "    </tr>\n",
       "    <tr>\n",
       "      <th>3884</th>\n",
       "      <td>3885</td>\n",
       "      <td>Asher</td>\n",
       "      <td>NaN</td>\n",
       "      <td>Male</td>\n",
       "      <td>55</td>\n",
       "      <td>1978-06-17 00:00:00</td>\n",
       "      <td>Actuary</td>\n",
       "      <td>Financial Services</td>\n",
       "      <td>Mass Customer</td>\n",
       "      <td>N</td>\n",
       "      <td>Yes</td>\n",
       "      <td>8.0</td>\n",
       "    </tr>\n",
       "    <tr>\n",
       "      <th>3915</th>\n",
       "      <td>3916</td>\n",
       "      <td>Myrtia</td>\n",
       "      <td>NaN</td>\n",
       "      <td>Female</td>\n",
       "      <td>31</td>\n",
       "      <td>1958-10-17 00:00:00</td>\n",
       "      <td>NaN</td>\n",
       "      <td>Retail</td>\n",
       "      <td>Affluent Customer</td>\n",
       "      <td>N</td>\n",
       "      <td>Yes</td>\n",
       "      <td>17.0</td>\n",
       "    </tr>\n",
       "    <tr>\n",
       "      <th>3926</th>\n",
       "      <td>3927</td>\n",
       "      <td>Conway</td>\n",
       "      <td>NaN</td>\n",
       "      <td>Male</td>\n",
       "      <td>29</td>\n",
       "      <td>1978-01-07 00:00:00</td>\n",
       "      <td>Electrical Engineer</td>\n",
       "      <td>Manufacturing</td>\n",
       "      <td>Mass Customer</td>\n",
       "      <td>N</td>\n",
       "      <td>Yes</td>\n",
       "      <td>7.0</td>\n",
       "    </tr>\n",
       "    <tr>\n",
       "      <th>3961</th>\n",
       "      <td>3962</td>\n",
       "      <td>Benoit</td>\n",
       "      <td>NaN</td>\n",
       "      <td>Male</td>\n",
       "      <td>17</td>\n",
       "      <td>1977-10-06 00:00:00</td>\n",
       "      <td>Project Manager</td>\n",
       "      <td>Argiculture</td>\n",
       "      <td>High Net Worth</td>\n",
       "      <td>N</td>\n",
       "      <td>Yes</td>\n",
       "      <td>14.0</td>\n",
       "    </tr>\n",
       "    <tr>\n",
       "      <th>3998</th>\n",
       "      <td>3999</td>\n",
       "      <td>Patrizius</td>\n",
       "      <td>NaN</td>\n",
       "      <td>Male</td>\n",
       "      <td>11</td>\n",
       "      <td>1973-10-24 00:00:00</td>\n",
       "      <td>NaN</td>\n",
       "      <td>Manufacturing</td>\n",
       "      <td>Affluent Customer</td>\n",
       "      <td>N</td>\n",
       "      <td>Yes</td>\n",
       "      <td>10.0</td>\n",
       "    </tr>\n",
       "  </tbody>\n",
       "</table>\n",
       "<p>125 rows × 12 columns</p>\n",
       "</div>"
      ],
      "text/plain": [
       "      customer_id first_name last_name  gender  \\\n",
       "3               4     Talbot       NaN    Male   \n",
       "66             67     Vernon       NaN    Male   \n",
       "105           106       Glyn       NaN    Male   \n",
       "138           139        Gar       NaN    Male   \n",
       "196           197       Avis       NaN  Female   \n",
       "...           ...        ...       ...     ...   \n",
       "3884         3885      Asher       NaN    Male   \n",
       "3915         3916     Myrtia       NaN  Female   \n",
       "3926         3927     Conway       NaN    Male   \n",
       "3961         3962     Benoit       NaN    Male   \n",
       "3998         3999  Patrizius       NaN    Male   \n",
       "\n",
       "      past_3_years_bike_related_purchases                  DOB  \\\n",
       "3                                      33  1961-10-03 00:00:00   \n",
       "66                                     67  1960-06-14 00:00:00   \n",
       "105                                    54  1966-07-03 00:00:00   \n",
       "138                                     1  1964-07-28 00:00:00   \n",
       "196                                    32  1977-01-27 00:00:00   \n",
       "...                                   ...                  ...   \n",
       "3884                                   55  1978-06-17 00:00:00   \n",
       "3915                                   31  1958-10-17 00:00:00   \n",
       "3926                                   29  1978-01-07 00:00:00   \n",
       "3961                                   17  1977-10-06 00:00:00   \n",
       "3998                                   11  1973-10-24 00:00:00   \n",
       "\n",
       "                       job_title job_industry_category     wealth_segment  \\\n",
       "3                            NaN                    IT      Mass Customer   \n",
       "66              Web Developer II                Retail      Mass Customer   \n",
       "105   Software Test Engineer III                Health     High Net Worth   \n",
       "138                     Operator    Telecommunications  Affluent Customer   \n",
       "196                          NaN                   NaN     High Net Worth   \n",
       "...                          ...                   ...                ...   \n",
       "3884                     Actuary    Financial Services      Mass Customer   \n",
       "3915                         NaN                Retail  Affluent Customer   \n",
       "3926         Electrical Engineer         Manufacturing      Mass Customer   \n",
       "3961             Project Manager           Argiculture     High Net Worth   \n",
       "3998                         NaN         Manufacturing  Affluent Customer   \n",
       "\n",
       "     deceased_indicator owns_car  tenure  \n",
       "3                     N       No     7.0  \n",
       "66                    N       No    18.0  \n",
       "105                   N      Yes    18.0  \n",
       "138                   N       No     4.0  \n",
       "196                   N       No     5.0  \n",
       "...                 ...      ...     ...  \n",
       "3884                  N      Yes     8.0  \n",
       "3915                  N      Yes    17.0  \n",
       "3926                  N      Yes     7.0  \n",
       "3961                  N      Yes    14.0  \n",
       "3998                  N      Yes    10.0  \n",
       "\n",
       "[125 rows x 12 columns]"
      ]
     },
     "execution_count": 10,
     "metadata": {},
     "output_type": "execute_result"
    }
   ],
   "source": [
    "cust_demo[cust_demo['last_name'].isnull()]"
   ]
  }
 ],
 "metadata": {
  "kaggle": {
   "accelerator": "none",
   "dataSources": [
    {
     "datasetId": 6540327,
     "sourceId": 10569380,
     "sourceType": "datasetVersion"
    },
    {
     "datasetId": 6540329,
     "sourceId": 10569384,
     "sourceType": "datasetVersion"
    },
    {
     "datasetId": 6540335,
     "sourceId": 10569392,
     "sourceType": "datasetVersion"
    },
    {
     "datasetId": 6540339,
     "sourceId": 10569398,
     "sourceType": "datasetVersion"
    }
   ],
   "dockerImageVersionId": 30839,
   "isGpuEnabled": false,
   "isInternetEnabled": true,
   "language": "python",
   "sourceType": "notebook"
  },
  "kernelspec": {
   "display_name": "Python 3",
   "language": "python",
   "name": "python3"
  },
  "language_info": {
   "codemirror_mode": {
    "name": "ipython",
    "version": 3
   },
   "file_extension": ".py",
   "mimetype": "text/x-python",
   "name": "python",
   "nbconvert_exporter": "python",
   "pygments_lexer": "ipython3",
   "version": "3.10.12"
  },
  "papermill": {
   "default_parameters": {},
   "duration": 5.982742,
   "end_time": "2025-01-25T09:17:42.485458",
   "environment_variables": {},
   "exception": null,
   "input_path": "__notebook__.ipynb",
   "output_path": "__notebook__.ipynb",
   "parameters": {},
   "start_time": "2025-01-25T09:17:36.502716",
   "version": "2.6.0"
  }
 },
 "nbformat": 4,
 "nbformat_minor": 5
}
